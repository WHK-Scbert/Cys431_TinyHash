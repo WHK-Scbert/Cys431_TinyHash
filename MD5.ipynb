{
  "nbformat": 4,
  "nbformat_minor": 0,
  "metadata": {
    "colab": {
      "provenance": []
    },
    "kernelspec": {
      "name": "python3",
      "display_name": "Python 3"
    },
    "language_info": {
      "name": "python"
    }
  },
  "cells": [
    {
      "cell_type": "code",
      "execution_count": 1,
      "metadata": {
        "id": "D35Ikc9SXgj0"
      },
      "outputs": [],
      "source": [
        "import hashlib\n",
        "import random\n",
        "import re"
      ]
    },
    {
      "cell_type": "markdown",
      "source": [
        "Hashing function"
      ],
      "metadata": {
        "id": "GPvQj36f4qxn"
      }
    },
    {
      "cell_type": "code",
      "source": [
        "def hashingMD5(data_byte):\n",
        "  return hashlib.md5(data_byte).hexdigest()\n",
        "\n",
        "def tinyHash(data_byte):\n",
        "  MD5 = hashingMD5(data_byte)\n",
        "  return MD5[0:5]"
      ],
      "metadata": {
        "id": "DAQoRBsE4ny3"
      },
      "execution_count": 2,
      "outputs": []
    },
    {
      "cell_type": "markdown",
      "source": [
        "Calculate the baseline MD5 for both samplefile.txt and contract.txt"
      ],
      "metadata": {
        "id": "X7MnLCOrZiF-"
      }
    },
    {
      "cell_type": "code",
      "source": [
        "sample_file = open('samplefile.txt','rb')\n",
        "sample_data = sample_file.read()\n",
        "print(\"Sample_file MD5: \" + hashingMD5(sample_data))\n",
        "print(\"Saple_file tinyHash: \" + tinyHash(sample_data))\n",
        "sample_file.close()"
      ],
      "metadata": {
        "colab": {
          "base_uri": "https://localhost:8080/"
        },
        "id": "OWu8mpFRX0Zj",
        "outputId": "c691dcb5-b874-46ac-af26-c9b1fd35f2c4"
      },
      "execution_count": 3,
      "outputs": [
        {
          "output_type": "stream",
          "name": "stdout",
          "text": [
            "Sample_file MD5: 5442f94666075ef8d695109af238a5db\n",
            "Saple_file tinyHash: 5442f\n"
          ]
        }
      ]
    },
    {
      "cell_type": "code",
      "source": [
        "contract_file = open('contract.txt','rb')\n",
        "contract_data = contract_file.read()\n",
        "print(\"contract MD5: \" + hashingMD5(contract_data))\n",
        "print(\"contract tinyHash: \" + tinyHash(contract_data))\n",
        "contract_file.close()"
      ],
      "metadata": {
        "colab": {
          "base_uri": "https://localhost:8080/"
        },
        "id": "j6JAsDkHYNMF",
        "outputId": "1c1365cc-db19-41cc-b3cb-29b86f897e86"
      },
      "execution_count": 4,
      "outputs": [
        {
          "output_type": "stream",
          "name": "stdout",
          "text": [
            "contract MD5: f03ac6e0ac6f2b039de8fb4eadd33582\n",
            "contract tinyHash: f03ac\n"
          ]
        }
      ]
    },
    {
      "cell_type": "markdown",
      "source": [
        "Generate a random word"
      ],
      "metadata": {
        "id": "o6E85Mp19n2x"
      }
    },
    {
      "cell_type": "code",
      "source": [
        "def randomWord():\n",
        "  length = random.randint(1,500)\n",
        "  word = random.randbytes(length)\n",
        "  return word"
      ],
      "metadata": {
        "id": "1oY3WYUl9nP0"
      },
      "execution_count": 5,
      "outputs": []
    },
    {
      "cell_type": "markdown",
      "source": [
        "A function to brute force a collision for Task 1"
      ],
      "metadata": {
        "id": "LZbswPBjZq6Z"
      }
    },
    {
      "cell_type": "code",
      "source": [
        "def task1(sample_data):\n",
        "  tries = 0\n",
        "  words = randomWord()\n",
        "  newData = sample_data + randomWord()\n",
        "  while(tinyHash(newData) != tinyHash(sample_data)):\n",
        "    words = randomWord()\n",
        "    newData = sample_data + words\n",
        "    tries = tries + 1\n",
        "  return [tries, tinyHash(newData), newData, words]\n",
        "  \n"
      ],
      "metadata": {
        "id": "We74IndUZoJB"
      },
      "execution_count": null,
      "outputs": []
    },
    {
      "cell_type": "markdown",
      "source": [
        "Task 1"
      ],
      "metadata": {
        "id": "OVzmKZtTAu3u"
      }
    },
    {
      "cell_type": "code",
      "source": [
        "numberOfFile = 5\n",
        "result = [[]]*numberOfFile\n",
        "words = []\n",
        "fileName = \"samplefile.txt\"\n",
        "print(f\"Running hash collision for file: {fileName}\")\n",
        "for i in range(numberOfFile):\n",
        "  result[i] = task1(sample_data)\n",
        "  words.append(result[i][3])\n",
        "  #print(words[i])\n",
        "\n",
        "#print(words)\n"
      ],
      "metadata": {
        "colab": {
          "base_uri": "https://localhost:8080/"
        },
        "id": "RRfgELK26KZY",
        "outputId": "f22b6d9f-e47e-47db-8374-938b6b0ce60f"
      },
      "execution_count": null,
      "outputs": [
        {
          "output_type": "stream",
          "name": "stdout",
          "text": [
            "Running hash collision for file: samplefile.txt\n"
          ]
        }
      ]
    },
    {
      "cell_type": "code",
      "source": [
        "for i in range(numberOfFile):\n",
        "  number = i+1\n",
        "  tries = result[i][0]\n",
        "  fileName = \"collision\"+str(number)+\".txt\"\n",
        "  print(f\"Found TinyHash collision # {number}\\t after trying {tries} words.\")\n",
        "  f = open(fileName, \"wb\")\n",
        "  f.write(result[i][2])\n",
        "  f.close()\n",
        "  print(f\"Collision saved as file: {fileName}\")\n",
        "  #print(\"tinyHash of the file is : \" + str(result[i]))"
      ],
      "metadata": {
        "colab": {
          "base_uri": "https://localhost:8080/"
        },
        "id": "T6_rLvxmDug3",
        "outputId": "a6a01441-bc5b-4e3c-9cd2-a89841048402"
      },
      "execution_count": null,
      "outputs": [
        {
          "output_type": "stream",
          "name": "stdout",
          "text": [
            "Found TinyHash collision # 1\t after trying 98899 words.\n",
            "Collision saved as file: collision1.txt\n",
            "Found TinyHash collision # 2\t after trying 1542276 words.\n",
            "Collision saved as file: collision2.txt\n",
            "Found TinyHash collision # 3\t after trying 1275504 words.\n",
            "Collision saved as file: collision3.txt\n",
            "Found TinyHash collision # 4\t after trying 327936 words.\n",
            "Collision saved as file: collision4.txt\n",
            "Found TinyHash collision # 5\t after trying 1865710 words.\n",
            "Collision saved as file: collision5.txt\n"
          ]
        }
      ]
    },
    {
      "cell_type": "markdown",
      "source": [
        "Testing"
      ],
      "metadata": {
        "id": "nMqgtkoeFqt-"
      }
    },
    {
      "cell_type": "code",
      "source": [
        "for i in range(numberOfFile):\n",
        "  collisionFile = \"collision\" + str(i+1) + \".txt\"\n",
        "  collision = open(collisionFile,'rb')\n",
        "  collision1 = collision.read()\n",
        "  print(\"Collision_file MD5: \" + hashingMD5(collision1))\n",
        "  print(\"Collision tinyHash: \" + tinyHash(collision1))\n",
        "  collision.close()"
      ],
      "metadata": {
        "colab": {
          "base_uri": "https://localhost:8080/"
        },
        "id": "tJT2tqULHW0l",
        "outputId": "252886b2-a050-4588-9997-01e833bef658"
      },
      "execution_count": null,
      "outputs": [
        {
          "output_type": "stream",
          "name": "stdout",
          "text": [
            "Collision_file MD5: 5442f4930e84919d11c03861dad31dde\n",
            "Collision tinyHash: 5442f\n",
            "Collision_file MD5: 5442f9971f871a67a9fa2920c8ac0f92\n",
            "Collision tinyHash: 5442f\n",
            "Collision_file MD5: 5442f2833edf1c8888a5dfc4e2fb6296\n",
            "Collision tinyHash: 5442f\n",
            "Collision_file MD5: 5442f9608c234da63de0114bf9442aa4\n",
            "Collision tinyHash: 5442f\n",
            "Collision_file MD5: 5442f85018e1ad7a611faa927a71e86b\n",
            "Collision tinyHash: 5442f\n"
          ]
        }
      ]
    },
    {
      "cell_type": "markdown",
      "source": [
        "A function to brute force Task 2"
      ],
      "metadata": {
        "id": "K1cIuBKPCxb8"
      }
    },
    {
      "cell_type": "code",
      "source": [
        "def task2(fileName):\n",
        "  f = open(fileName, \"r\")\n",
        "  data = f.read()\n",
        "  f.close()\n",
        "  hash = tinyHash(data.encode())\n",
        "  #print(hash)\n",
        "  number = 0\n",
        "  x = re.search(\"[$][0-9]*$\", data)\n",
        "  price = int(data[x.start()+1:])\n",
        "  #print(str(price))\n",
        "  newData = data[:x.start()+1] + str(number)\n",
        "  #print(newData)\n",
        "  \n",
        "  while(tinyHash(newData.encode()) != hash):\n",
        "    number = random.randint(0,price-1)\n",
        "    newData = data[:x.start()+1] + str(number)\n",
        "  return [newData, number]\n",
        "  \n",
        "  \n",
        "\n"
      ],
      "metadata": {
        "id": "J5ibSIbrCxBz"
      },
      "execution_count": 12,
      "outputs": []
    },
    {
      "cell_type": "markdown",
      "source": [
        "Task2"
      ],
      "metadata": {
        "id": "0reSOFRBNaUX"
      }
    },
    {
      "cell_type": "code",
      "source": [
        "print(\"Starting Task 2...\\n\")\n",
        "fileName = \"contract.txt\"\n",
        "print(f\"Running hash collision for file: {fileName}\")\n",
        "print(\"Full MD5 digest is: \" + str(hashingMD5(contract_data)))\n",
        "print(\"TinyHash digest is: \" + str(tinyHash(contract_data)))\n",
        "newNFT = []\n",
        "newNFT = task2(fileName)\n",
        "print(f\"Found TinyHash collision using this number: {newNFT[1]}\")"
      ],
      "metadata": {
        "colab": {
          "base_uri": "https://localhost:8080/"
        },
        "id": "vQE6gJ8WIjFr",
        "outputId": "f4d3e4e3-a161-4d34-96b3-7b2ae45a92bc"
      },
      "execution_count": 13,
      "outputs": [
        {
          "output_type": "stream",
          "name": "stdout",
          "text": [
            "Starting Task 2...\n",
            "\n",
            "Running hash collision for file: contract.txt\n",
            "Full MD5 digest is: f03ac6e0ac6f2b039de8fb4eadd33582\n",
            "TinyHash digest is: f03ac\n",
            "Found TinyHash collision using this number: 33529\n"
          ]
        }
      ]
    },
    {
      "cell_type": "markdown",
      "source": [
        "Saving the contract to a new file"
      ],
      "metadata": {
        "id": "U03IOsYsOgFm"
      }
    },
    {
      "cell_type": "code",
      "source": [
        "newContract = \"newcontract.txt\"\n",
        "f = open(newContract, \"w\")\n",
        "f.write(newNFT[0])\n",
        "f.close\n",
        "print(f\"New contract saved to file: {newContract}\")"
      ],
      "metadata": {
        "colab": {
          "base_uri": "https://localhost:8080/"
        },
        "id": "dMdZyXs3OfkK",
        "outputId": "c97f460e-d18d-4633-9035-660d6a4fdb05"
      },
      "execution_count": null,
      "outputs": [
        {
          "output_type": "stream",
          "name": "stdout",
          "text": [
            "New contract saved to file: newcontract.txt\n"
          ]
        }
      ]
    },
    {
      "cell_type": "markdown",
      "source": [
        "Testing Task2"
      ],
      "metadata": {
        "id": "6i8R35YHPY4E"
      }
    },
    {
      "cell_type": "code",
      "source": [
        "f = open(newContract, \"rb\")\n",
        "data = f.read()\n",
        "print(tinyHash(data))\n",
        "f.close()"
      ],
      "metadata": {
        "colab": {
          "base_uri": "https://localhost:8080/"
        },
        "id": "1efT0qASPbPx",
        "outputId": "04773870-0e0a-4492-995c-abdd589ccea5"
      },
      "execution_count": null,
      "outputs": [
        {
          "output_type": "stream",
          "name": "stdout",
          "text": [
            "f03ac\n"
          ]
        }
      ]
    }
  ]
}