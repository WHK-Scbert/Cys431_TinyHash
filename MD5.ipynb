{
  "cells": [
    {
      "cell_type": "code",
      "execution_count": 1,
      "metadata": {
        "id": "D35Ikc9SXgj0"
      },
      "outputs": [],
      "source": [
        "import hashlib\n",
        "import random\n",
        "import re"
      ]
    },
    {
      "cell_type": "markdown",
      "metadata": {
        "id": "GPvQj36f4qxn"
      },
      "source": [
        "Hashing function"
      ]
    },
    {
      "cell_type": "code",
      "execution_count": 2,
      "metadata": {
        "id": "DAQoRBsE4ny3"
      },
      "outputs": [],
      "source": [
        "def hashingMD5(data_byte):\n",
        "  return hashlib.md5(data_byte).hexdigest()\n",
        "\n",
        "def tinyHash(data_byte):\n",
        "  MD5 = hashingMD5(data_byte)\n",
        "  return MD5[0:5]"
      ]
    },
    {
      "cell_type": "markdown",
      "metadata": {
        "id": "X7MnLCOrZiF-"
      },
      "source": [
        "Calculate the baseline MD5 for both samplefile.txt and contract.txt"
      ]
    },
    {
      "cell_type": "code",
      "execution_count": 3,
      "metadata": {
        "colab": {
          "base_uri": "https://localhost:8080/"
        },
        "id": "OWu8mpFRX0Zj",
        "outputId": "a86b786c-8676-4133-a615-78802da0d965"
      },
      "outputs": [
        {
          "name": "stdout",
          "output_type": "stream",
          "text": [
            "Sample_file MD5: 5442f94666075ef8d695109af238a5db\n",
            "Saple_file tinyHash: 5442f\n"
          ]
        }
      ],
      "source": [
        "sample_file = open('samplefile.txt','rb')\n",
        "sample_data = sample_file.read()\n",
        "print(\"Sample_file MD5: \" + hashingMD5(sample_data))\n",
        "print(\"Saple_file tinyHash: \" + tinyHash(sample_data))\n",
        "sample_file.close()"
      ]
    },
    {
      "cell_type": "code",
      "execution_count": 4,
      "metadata": {
        "colab": {
          "base_uri": "https://localhost:8080/"
        },
        "id": "j6JAsDkHYNMF",
        "outputId": "79974d38-3dbc-45f1-87e9-48ba222aabdb"
      },
      "outputs": [
        {
          "name": "stdout",
          "output_type": "stream",
          "text": [
            "contract MD5: f03ac6e0ac6f2b039de8fb4eadd33582\n",
            "contract tinyHash: f03ac\n"
          ]
        }
      ],
      "source": [
        "contract_file = open('contract.txt','rb')\n",
        "contract_data = contract_file.read()\n",
        "print(\"contract MD5: \" + hashingMD5(contract_data))\n",
        "print(\"contract tinyHash: \" + tinyHash(contract_data))\n",
        "contract_file.close()"
      ]
    },
    {
      "cell_type": "markdown",
      "metadata": {
        "id": "o6E85Mp19n2x"
      },
      "source": [
        "Generate a random word"
      ]
    },
    {
      "cell_type": "code",
      "execution_count": 5,
      "metadata": {
        "id": "1oY3WYUl9nP0"
      },
      "outputs": [],
      "source": [
        "def randomWord():\n",
        "  length = random.randint(1,500)\n",
        "  word = random.randbytes(length)\n",
        "  return word"
      ]
    },
    {
      "cell_type": "markdown",
      "metadata": {
        "id": "LZbswPBjZq6Z"
      },
      "source": [
        "A function to brute force a collision for Task 1"
      ]
    },
    {
      "cell_type": "code",
      "execution_count": 6,
      "metadata": {
        "id": "We74IndUZoJB"
      },
      "outputs": [],
      "source": [
        "def task1(sample_data):\n",
        "  tries = 0\n",
        "  words = randomWord()\n",
        "  newData = sample_data + randomWord()\n",
        "  while(tinyHash(newData) != tinyHash(sample_data)):\n",
        "    words = randomWord()\n",
        "    newData = sample_data + words\n",
        "    tries = tries + 1\n",
        "  return [tries, tinyHash(newData), newData, words]\n",
        "  \n"
      ]
    },
    {
      "cell_type": "markdown",
      "metadata": {
        "id": "OVzmKZtTAu3u"
      },
      "source": [
        "Task 1"
      ]
    },
    {
      "cell_type": "code",
      "execution_count": 7,
      "metadata": {
        "colab": {
          "base_uri": "https://localhost:8080/"
        },
        "id": "RRfgELK26KZY",
        "outputId": "f22b6d9f-e47e-47db-8374-938b6b0ce60f"
      },
      "outputs": [
        {
          "name": "stdout",
          "output_type": "stream",
          "text": [
            "Running hash collision for file: samplefile.txt\n"
          ]
        }
      ],
      "source": [
        "numberOfFile = 5\n",
        "result = [[]]*numberOfFile\n",
        "words = []\n",
        "fileName = \"samplefile.txt\"\n",
        "print(f\"Running hash collision for file: {fileName}\")\n",
        "for i in range(numberOfFile):\n",
        "  result[i] = task1(sample_data)\n",
        "  words.append(result[i][3])\n",
        "  #print(words[i])\n",
        "\n",
        "#print(words)\n"
      ]
    },
    {
      "cell_type": "code",
      "execution_count": 8,
      "metadata": {
        "id": "T6_rLvxmDug3"
      },
      "outputs": [
        {
          "name": "stdout",
          "output_type": "stream",
          "text": [
            "Found TinyHash collision # 1\t after trying 28058 words.\n",
            "Collision saved as file: collision1.txt\n",
            "Found TinyHash collision # 2\t after trying 728168 words.\n",
            "Collision saved as file: collision2.txt\n",
            "Found TinyHash collision # 3\t after trying 405134 words.\n",
            "Collision saved as file: collision3.txt\n",
            "Found TinyHash collision # 4\t after trying 117250 words.\n",
            "Collision saved as file: collision4.txt\n",
            "Found TinyHash collision # 5\t after trying 49337 words.\n",
            "Collision saved as file: collision5.txt\n"
          ]
        }
      ],
      "source": [
        "for i in range(numberOfFile):\n",
        "  number = i+1\n",
        "  tries = result[i][0]\n",
        "  fileName = \"collision\"+str(number)+\".txt\"\n",
        "  print(f\"Found TinyHash collision # {number}\\t after trying {tries} words.\")\n",
        "  f = open(fileName, \"wb\")\n",
        "  f.write(result[i][2])\n",
        "  f.close()\n",
        "  print(f\"Collision saved as file: {fileName}\")\n",
        "  #print(\"tinyHash of the file is : \" + str(result[i]))"
      ]
    },
    {
      "cell_type": "markdown",
      "metadata": {
        "id": "nMqgtkoeFqt-"
      },
      "source": [
        "Testing"
      ]
    },
    {
      "cell_type": "code",
      "execution_count": 9,
      "metadata": {
        "id": "tJT2tqULHW0l"
      },
      "outputs": [
        {
          "name": "stdout",
          "output_type": "stream",
          "text": [
            "Collision_file MD5: 5442f881660dc9799a1588e065b5530b\n",
            "Collision tinyHash: 5442f\n",
            "Collision_file MD5: 5442fe895e2a270329d64a736fdabec4\n",
            "Collision tinyHash: 5442f\n",
            "Collision_file MD5: 5442f79751600938c9f08bed75129d4c\n",
            "Collision tinyHash: 5442f\n",
            "Collision_file MD5: 5442f82d96daf143b4f20b26a24e45e6\n",
            "Collision tinyHash: 5442f\n",
            "Collision_file MD5: 5442fc5d26ca6077d41e3257eaba873d\n",
            "Collision tinyHash: 5442f\n"
          ]
        }
      ],
      "source": [
        "for i in range(numberOfFile):\n",
        "  collisionFile = \"collision\" + str(i+1) + \".txt\"\n",
        "  collision = open(collisionFile,'rb')\n",
        "  collision1 = collision.read()\n",
        "  print(\"Collision_file MD5: \" + hashingMD5(collision1))\n",
        "  print(\"Collision tinyHash: \" + tinyHash(collision1))\n",
        "  collision.close()"
      ]
    },
    {
      "cell_type": "markdown",
      "metadata": {
        "id": "K1cIuBKPCxb8"
      },
      "source": [
        "A function to brute force Task 2"
      ]
    },
    {
      "cell_type": "code",
      "execution_count": 10,
      "metadata": {
        "id": "J5ibSIbrCxBz"
      },
      "outputs": [],
      "source": [
        "def task2(fileName):\n",
        "  f = open(fileName, \"r\")\n",
        "  data = f.read()\n",
        "  f.close()\n",
        "  hash = tinyHash(data.encode())\n",
        "  #print(hash)\n",
        "  number = 0\n",
        "  x = re.search(\"[$][0-9]*$\", data)\n",
        "  newData = data[:x.start()+1] + str(number)\n",
        "  #print(newData)\n",
        "  \n",
        "  while(tinyHash(newData.encode()) != hash):\n",
        "    number = random.randint(0,10000000)\n",
        "    newData = data[:x.start()+1] + str(number)\n",
        "  return [newData, number]\n",
        "  \n",
        "  \n",
        "\n"
      ]
    },
    {
      "cell_type": "markdown",
      "metadata": {
        "id": "0reSOFRBNaUX"
      },
      "source": [
        "Task2"
      ]
    },
    {
      "cell_type": "code",
      "execution_count": 11,
      "metadata": {
        "id": "vQE6gJ8WIjFr"
      },
      "outputs": [
        {
          "name": "stdout",
          "output_type": "stream",
          "text": [
            "Starting Task 2...\n",
            "\n",
            "Running hash collision for file: contract.txt\n",
            "Full MD5 digest is: f03ac6e0ac6f2b039de8fb4eadd33582\n",
            "TinyHash digest is: f03ac\n",
            "Found TinyHash collision using this number: 2705154\n"
          ]
        }
      ],
      "source": [
        "print(\"Starting Task 2...\\n\")\n",
        "fileName = \"contract.txt\"\n",
        "print(f\"Running hash collision for file: {fileName}\")\n",
        "print(\"Full MD5 digest is: \" + str(hashingMD5(contract_data)))\n",
        "print(\"TinyHash digest is: \" + str(tinyHash(contract_data)))\n",
        "newNFT = []\n",
        "newNFT = task2(fileName)\n",
        "print(f\"Found TinyHash collision using this number: {newNFT[1]}\")"
      ]
    },
    {
      "cell_type": "markdown",
      "metadata": {
        "id": "U03IOsYsOgFm"
      },
      "source": [
        "Saving the contract to a new file"
      ]
    },
    {
      "cell_type": "code",
      "execution_count": 12,
      "metadata": {
        "id": "dMdZyXs3OfkK"
      },
      "outputs": [
        {
          "name": "stdout",
          "output_type": "stream",
          "text": [
            "New contract saved to file: newcontract.txt\n"
          ]
        }
      ],
      "source": [
        "newContract = \"newcontract.txt\"\n",
        "f = open(newContract, \"w\")\n",
        "f.write(newNFT[0])\n",
        "f.close\n",
        "print(f\"New contract saved to file: {newContract}\")"
      ]
    },
    {
      "cell_type": "markdown",
      "metadata": {
        "id": "6i8R35YHPY4E"
      },
      "source": [
        "Testing Task2"
      ]
    },
    {
      "cell_type": "code",
      "execution_count": 13,
      "metadata": {
        "id": "1efT0qASPbPx"
      },
      "outputs": [
        {
          "name": "stdout",
          "output_type": "stream",
          "text": [
            "f03ac\n"
          ]
        }
      ],
      "source": [
        "f = open(newContract, \"rb\")\n",
        "data = f.read()\n",
        "print(tinyHash(data))\n",
        "f.close()"
      ]
    }
  ],
  "metadata": {
    "colab": {
      "provenance": []
    },
    "kernelspec": {
      "display_name": "Python 3",
      "name": "python3"
    },
    "language_info": {
      "codemirror_mode": {
        "name": "ipython",
        "version": 3
      },
      "file_extension": ".py",
      "mimetype": "text/x-python",
      "name": "python",
      "nbconvert_exporter": "python",
      "pygments_lexer": "ipython3",
      "version": "3.11.1"
    }
  },
  "nbformat": 4,
  "nbformat_minor": 0
}
