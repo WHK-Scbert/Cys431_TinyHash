{
  "nbformat": 4,
  "nbformat_minor": 0,
  "metadata": {
    "colab": {
      "provenance": []
    },
    "kernelspec": {
      "name": "python3",
      "display_name": "Python 3"
    },
    "language_info": {
      "name": "python"
    }
  },
  "cells": [
    {
      "cell_type": "code",
      "execution_count": 14,
      "metadata": {
        "id": "D35Ikc9SXgj0"
      },
      "outputs": [],
      "source": [
        "import hashlib\n",
        "import random\n",
        "import re"
      ]
    },
    {
      "cell_type": "markdown",
      "source": [
        "Hashing function"
      ],
      "metadata": {
        "id": "GPvQj36f4qxn"
      }
    },
    {
      "cell_type": "code",
      "source": [
        "def hashingMD5(data_byte):\n",
        "  return hashlib.md5(data_byte).hexdigest()\n",
        "\n",
        "def tinyHash(data_byte):\n",
        "  MD5 = hashingMD5(data_byte)\n",
        "  return MD5[0:5]"
      ],
      "metadata": {
        "id": "DAQoRBsE4ny3"
      },
      "execution_count": 15,
      "outputs": []
    },
    {
      "cell_type": "markdown",
      "source": [
        "Calculate the baseline MD5 for both samplefile.txt and contract.txt"
      ],
      "metadata": {
        "id": "X7MnLCOrZiF-"
      }
    },
    {
      "cell_type": "code",
      "source": [
        "sample_file = open('samplefile.txt','rb')\n",
        "sample_data = sample_file.read()\n",
        "print(\"Sample_file MD5: \" + hashingMD5(sample_data))\n",
        "print(\"Saple_file tinyHash: \" + tinyHash(sample_data))\n",
        "sample_file.close()"
      ],
      "metadata": {
        "colab": {
          "base_uri": "https://localhost:8080/",
          "height": 0
        },
        "id": "OWu8mpFRX0Zj",
        "outputId": "a297df4e-7eff-41c8-de38-876ca930f0c4"
      },
      "execution_count": 16,
      "outputs": [
        {
          "output_type": "stream",
          "name": "stdout",
          "text": [
            "Sample_file MD5: 5442f94666075ef8d695109af238a5db\n",
            "Saple_file tinyHash: 5442f\n"
          ]
        }
      ]
    },
    {
      "cell_type": "code",
      "source": [
        "contract_file = open('contract.txt','rb')\n",
        "contract_data = contract_file.read()\n",
        "print(\"contract MD5: \" + hashingMD5(contract_data))\n",
        "print(\"contract tinyHash: \" + tinyHash(contract_data))\n",
        "contract_file.close()"
      ],
      "metadata": {
        "colab": {
          "base_uri": "https://localhost:8080/",
          "height": 0
        },
        "id": "j6JAsDkHYNMF",
        "outputId": "19bbc26d-9856-476e-e157-97458ddd4360"
      },
      "execution_count": 17,
      "outputs": [
        {
          "output_type": "stream",
          "name": "stdout",
          "text": [
            "contract MD5: f03ac6e0ac6f2b039de8fb4eadd33582\n",
            "contract tinyHash: f03ac\n"
          ]
        }
      ]
    },
    {
      "cell_type": "markdown",
      "source": [
        "Generate a random word"
      ],
      "metadata": {
        "id": "o6E85Mp19n2x"
      }
    },
    {
      "cell_type": "code",
      "source": [
        "def randomWord():\n",
        "  length = random.randint(1,500)\n",
        "  word = random.randbytes(length)\n",
        "  return word"
      ],
      "metadata": {
        "id": "1oY3WYUl9nP0"
      },
      "execution_count": 18,
      "outputs": []
    },
    {
      "cell_type": "markdown",
      "source": [
        "A function to brute force a collision for Task 1"
      ],
      "metadata": {
        "id": "LZbswPBjZq6Z"
      }
    },
    {
      "cell_type": "code",
      "source": [
        "def task1(sample_data):\n",
        "  tries = 0\n",
        "  words = randomWord()\n",
        "  newData = sample_data + randomWord()\n",
        "  while(tinyHash(newData) != tinyHash(sample_data)):\n",
        "    words = randomWord()\n",
        "    newData = sample_data + words\n",
        "    tries = tries + 1\n",
        "  return [tries, tinyHash(newData), newData, words]\n",
        "  \n"
      ],
      "metadata": {
        "id": "We74IndUZoJB"
      },
      "execution_count": 19,
      "outputs": []
    },
    {
      "cell_type": "markdown",
      "source": [
        "Task 1"
      ],
      "metadata": {
        "id": "OVzmKZtTAu3u"
      }
    },
    {
      "cell_type": "code",
      "source": [
        "numberOfFile = 5\n",
        "result = [[]]*numberOfFile\n",
        "words = []\n",
        "fileName = \"samplefile.txt\"\n",
        "print(f\"Running hash collision for file: {fileName}\")\n",
        "for i in range(numberOfFile):\n",
        "  result[i] = task1(sample_data)\n",
        "  words.append(result[i][3])\n",
        "  #print(words[i])\n",
        "\n",
        "#print(words)\n"
      ],
      "metadata": {
        "colab": {
          "base_uri": "https://localhost:8080/",
          "height": 0
        },
        "id": "RRfgELK26KZY",
        "outputId": "16dc7f42-fca0-4a64-bae2-3737ea5c7d91"
      },
      "execution_count": 20,
      "outputs": [
        {
          "output_type": "stream",
          "name": "stdout",
          "text": [
            "Running hash collision for file: samplefile.txt\n"
          ]
        }
      ]
    },
    {
      "cell_type": "code",
      "source": [
        "for i in range(numberOfFile):\n",
        "  number = i+1\n",
        "  tries = result[i][0]\n",
        "  fileName = \"collision\"+str(number)+\".txt\"\n",
        "  print(f\"Found TinyHash collision # {number}\\t after trying {tries} words.\")\n",
        "  f = open(fileName, \"wb\")\n",
        "  f.write(result[i][2])\n",
        "  f.close()\n",
        "  print(f\"Collision saved as file: {fileName}\")\n",
        "  #print(\"tinyHash of the file is : \" + str(result[i]))"
      ],
      "metadata": {
        "colab": {
          "base_uri": "https://localhost:8080/",
          "height": 0
        },
        "id": "T6_rLvxmDug3",
        "outputId": "c042bdf9-e1c2-4a12-ec24-db9b34250a36"
      },
      "execution_count": 21,
      "outputs": [
        {
          "output_type": "stream",
          "name": "stdout",
          "text": [
            "Found TinyHash collision # 1\t after trying 1187979 words.\n",
            "Collision saved as file: collision1.txt\n",
            "Found TinyHash collision # 2\t after trying 390413 words.\n",
            "Collision saved as file: collision2.txt\n",
            "Found TinyHash collision # 3\t after trying 2732234 words.\n",
            "Collision saved as file: collision3.txt\n",
            "Found TinyHash collision # 4\t after trying 236416 words.\n",
            "Collision saved as file: collision4.txt\n",
            "Found TinyHash collision # 5\t after trying 172818 words.\n",
            "Collision saved as file: collision5.txt\n"
          ]
        }
      ]
    },
    {
      "cell_type": "markdown",
      "source": [
        "Testing"
      ],
      "metadata": {
        "id": "nMqgtkoeFqt-"
      }
    },
    {
      "cell_type": "code",
      "source": [
        "for i in range(numberOfFile):\n",
        "  collisionFile = \"collision\" + str(i+1) + \".txt\"\n",
        "  collision = open(collisionFile,'rb')\n",
        "  collision1 = collision.read()\n",
        "  print(\"Collision_file MD5: \" + hashingMD5(collision1))\n",
        "  print(\"Collision tinyHash: \" + tinyHash(collision1))\n",
        "  collision.close()"
      ],
      "metadata": {
        "colab": {
          "base_uri": "https://localhost:8080/",
          "height": 0
        },
        "id": "tJT2tqULHW0l",
        "outputId": "6f17e90e-68a4-430f-e762-2c93fc2fa515"
      },
      "execution_count": 22,
      "outputs": [
        {
          "output_type": "stream",
          "name": "stdout",
          "text": [
            "Collision_file MD5: 5442ff2ab96f0e0f58f328d6b4f7c50c\n",
            "Collision tinyHash: 5442f\n",
            "Collision_file MD5: 5442f6c326ff56b23e14e2669e87fb53\n",
            "Collision tinyHash: 5442f\n",
            "Collision_file MD5: 5442fc16090023a558fa22ed19381d37\n",
            "Collision tinyHash: 5442f\n",
            "Collision_file MD5: 5442f3bbe13211bfc49b5f15f3f89a50\n",
            "Collision tinyHash: 5442f\n",
            "Collision_file MD5: 5442febcb314f6eabf877d699b0545f7\n",
            "Collision tinyHash: 5442f\n"
          ]
        }
      ]
    },
    {
      "cell_type": "markdown",
      "source": [
        "A function to brute force Task 2"
      ],
      "metadata": {
        "id": "K1cIuBKPCxb8"
      }
    },
    {
      "cell_type": "code",
      "source": [
        "def task2(fileName):\n",
        "  f = open(fileName, \"r\")\n",
        "  data = f.read()\n",
        "  f.close()\n",
        "  hash = tinyHash(data.encode())\n",
        "  #print(hash)\n",
        "  number = 0\n",
        "  x = re.search(\"[$][0-9]*$\", data)\n",
        "  price = int(data[x.start()+1:])\n",
        "  #print(str(price))\n",
        "  newData = data[:x.start()+1] + str(number)\n",
        "  #print(newData)\n",
        "  \n",
        "  while(tinyHash(newData.encode()) != hash):\n",
        "    number = random.randint(0,price-1)\n",
        "    newData = data[:x.start()+1] + str(number)\n",
        "  return [newData, number]\n",
        "  \n",
        "  \n",
        "\n"
      ],
      "metadata": {
        "id": "J5ibSIbrCxBz"
      },
      "execution_count": 23,
      "outputs": []
    },
    {
      "cell_type": "markdown",
      "source": [
        "Task2"
      ],
      "metadata": {
        "id": "0reSOFRBNaUX"
      }
    },
    {
      "cell_type": "code",
      "source": [
        "print(\"Starting Task 2...\\n\")\n",
        "fileName = \"contract.txt\"\n",
        "print(f\"Running hash collision for file: {fileName}\")\n",
        "print(\"Full MD5 digest is: \" + str(hashingMD5(contract_data)))\n",
        "print(\"TinyHash digest is: \" + str(tinyHash(contract_data)))\n",
        "newNFT = []\n",
        "newNFT = task2(fileName)\n",
        "print(f\"Found TinyHash collision using this number: {newNFT[1]}\")"
      ],
      "metadata": {
        "colab": {
          "base_uri": "https://localhost:8080/",
          "height": 0
        },
        "id": "vQE6gJ8WIjFr",
        "outputId": "136a4c7a-165f-4431-d028-f1cb37b8c423"
      },
      "execution_count": 24,
      "outputs": [
        {
          "output_type": "stream",
          "name": "stdout",
          "text": [
            "Starting Task 2...\n",
            "\n",
            "Running hash collision for file: contract.txt\n",
            "Full MD5 digest is: f03ac6e0ac6f2b039de8fb4eadd33582\n",
            "TinyHash digest is: f03ac\n",
            "Found TinyHash collision using this number: 33529\n"
          ]
        }
      ]
    },
    {
      "cell_type": "markdown",
      "source": [
        "Saving the contract to a new file"
      ],
      "metadata": {
        "id": "U03IOsYsOgFm"
      }
    },
    {
      "cell_type": "code",
      "source": [
        "newContract = \"newcontract.txt\"\n",
        "f = open(newContract, \"w\")\n",
        "f.write(newNFT[0])\n",
        "f.close\n",
        "print(f\"New contract saved to file: {newContract}\")"
      ],
      "metadata": {
        "colab": {
          "base_uri": "https://localhost:8080/",
          "height": 0
        },
        "id": "dMdZyXs3OfkK",
        "outputId": "515e4c25-9c1e-4cf8-9a2c-68320cf34af2"
      },
      "execution_count": 25,
      "outputs": [
        {
          "output_type": "stream",
          "name": "stdout",
          "text": [
            "New contract saved to file: newcontract.txt\n"
          ]
        }
      ]
    },
    {
      "cell_type": "markdown",
      "source": [
        "Testing Task2"
      ],
      "metadata": {
        "id": "6i8R35YHPY4E"
      }
    },
    {
      "cell_type": "code",
      "source": [
        "f = open(newContract, \"rb\")\n",
        "data = f.read()\n",
        "print(tinyHash(data))\n",
        "f.close()"
      ],
      "metadata": {
        "colab": {
          "base_uri": "https://localhost:8080/",
          "height": 0
        },
        "id": "1efT0qASPbPx",
        "outputId": "64411864-9c1a-41c2-b0eb-f65db33af319"
      },
      "execution_count": 26,
      "outputs": [
        {
          "output_type": "stream",
          "name": "stdout",
          "text": [
            "f03ac\n"
          ]
        }
      ]
    }
  ]
}